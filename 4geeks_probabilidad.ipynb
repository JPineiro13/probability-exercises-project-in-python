{
  "nbformat": 4,
  "nbformat_minor": 0,
  "metadata": {
    "colab": {
      "provenance": [],
      "authorship_tag": "ABX9TyNlMwAhSdByp/bXyi9wL070",
      "include_colab_link": true
    },
    "kernelspec": {
      "name": "python3",
      "display_name": "Python 3"
    },
    "language_info": {
      "name": "python"
    }
  },
  "cells": [
    {
      "cell_type": "markdown",
      "metadata": {
        "id": "view-in-github",
        "colab_type": "text"
      },
      "source": [
        "<a href=\"https://colab.research.google.com/github/JPineiro13/probability-exercises-project-in-python/blob/main/4geeks_probabilidad.ipynb\" target=\"_parent\"><img src=\"https://colab.research.google.com/assets/colab-badge.svg\" alt=\"Open In Colab\"/></a>"
      ]
    },
    {
      "cell_type": "code",
      "execution_count": null,
      "metadata": {
        "colab": {
          "base_uri": "https://localhost:8080/"
        },
        "id": "RRVzv-DtPjV0",
        "outputId": "45f4a8f3-7e59-4baa-e064-40af07548b84"
      },
      "outputs": [
        {
          "output_type": "stream",
          "name": "stdout",
          "text": [
            "La probabilidad de obtener un número par o superior a 7 es del: 66.60000000000001%\n"
          ]
        }
      ],
      "source": [
        "#Ej 1\n",
        "\n",
        "#En este caso partimos con la ventaja de poder calcular con facilidad el resultado al que nos deberíamos aproximar (en el infinito)\n",
        "#Números pares y sus probabilidades\n",
        "# 2: 1/36\n",
        "# 4: 3/36\n",
        "# 6: 5/36\n",
        "# 8: 5/36\n",
        "# 10: 3/36\n",
        "# 12: 1/36\n",
        "\n",
        "# Lo que supone un total de 18/36 = 50%\n",
        "\n",
        "# Por otro lado, los mayores de 7 (Solamente los impares, los otros ya están contabilizados antes)son:\n",
        "# 9 --> (4/36), 11 --> (2/36), que hacen un total de 6/36 = 1/6 = 16,66...%\n",
        "# Así que lo esperable es que nuestro resultado de la simulación sea también cercano a 50 + 16,66 = 66,66% si todo esta bien\n",
        "\n",
        "\n",
        "import random\n",
        "import numpy as np\n",
        "\n",
        "def tirar_dado(tiradas = 1000):\n",
        "\n",
        "    par_o_sobre_7 = 0\n",
        "\n",
        "    for tirada in range(tiradas):\n",
        "\n",
        "        dado_a = random.randint(1, 6)\n",
        "        dado_b = random.randint(1, 6)\n",
        "\n",
        "        suma =  dado_a + dado_b\n",
        "\n",
        "        if (suma % 2 == 0) or (suma > 7):\n",
        "            par_o_sobre_7 += 1\n",
        "\n",
        "    return par_o_sobre_7 / tiradas\n",
        "\n",
        "print(f\"La probabilidad de obtener un número par o superior a 7 es del: {tirar_dado() * 100}%\")"
      ]
    },
    {
      "cell_type": "code",
      "source": [
        "#Ej 2\n",
        "\n",
        "# Es importante poner los colores en orden en los condicionales para contabilizar\n",
        "#los éxitos de manera ordenada\n",
        "\n",
        "import random\n",
        "import numpy as np\n",
        "\n",
        "caja = {}\n",
        "\n",
        "for numero in range(6):\n",
        "    if numero > 4:\n",
        "        caja[numero] = \"Blanca\"\n",
        "    elif numero > 2:\n",
        "        caja[numero] = \"Roja\"\n",
        "    else:\n",
        "        caja[numero] = \"Verde\"\n",
        "\n",
        "print(caja)\n",
        "\n",
        "def evaluador(simulaciones=1000):\n",
        "    bbb_rr = 0\n",
        "    cinco_iguales = 0\n",
        "\n",
        "    for _ in range(simulaciones):\n",
        "        lista_cinco_bolas = []\n",
        "\n",
        "        for sacar_bola in range(5):\n",
        "            # Convertirlo a array es crucial\n",
        "            lista_cinco_bolas.append(caja[np.random.randint(1, 6)])\n",
        "\n",
        "        # Convertir la lista a un array después del bucle\n",
        "        lista_cinco_bolas = np.array(lista_cinco_bolas)\n",
        "\n",
        "        suma_blancas = sum(lista_cinco_bolas == \"Blanca\")\n",
        "        suma_rojas = sum(lista_cinco_bolas == \"Roja\")\n",
        "        suma_verdes = sum(lista_cinco_bolas == \"Verde\")\n",
        "\n",
        "        if (suma_blancas == 3) and (suma_rojas == 2):\n",
        "            bbb_rr += 1\n",
        "\n",
        "        if (suma_blancas == 5) or (suma_rojas == 5) or (suma_verdes == 5):\n",
        "            cinco_iguales += 1\n",
        "\n",
        "    return bbb_rr / simulaciones, cinco_iguales / simulaciones\n",
        "\n",
        "resultado = evaluador(100000)\n",
        "\n",
        "print(f\"La probabilidad de obtener 3 blancas y 2 rojas es: {resultado[0] * 100}%\")\n",
        "print(f\"La probabilidad de que las cinco sean del mismo color es: {resultado[1] * 100}%\")\n",
        "\n",
        "\n"
      ],
      "metadata": {
        "colab": {
          "base_uri": "https://localhost:8080/"
        },
        "id": "3AcF3dphVLzL",
        "outputId": "64f51406-0609-42b0-c9e5-a639c636ae0f"
      },
      "execution_count": null,
      "outputs": [
        {
          "output_type": "stream",
          "name": "stdout",
          "text": [
            "{0: 'Verde', 1: 'Verde', 2: 'Verde', 3: 'Roja', 4: 'Roja', 5: 'Blanca'}\n",
            "La probabilidad de obtener 3 blancas y 2 rojas es: 1.278%\n",
            "La probabilidad de que las cinco sean del mismo color es: 2.0709999999999997%\n"
          ]
        }
      ]
    }
  ]
}